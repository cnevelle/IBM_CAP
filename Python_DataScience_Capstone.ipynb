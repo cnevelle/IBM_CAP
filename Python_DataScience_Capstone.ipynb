{
 "cells": [
  {
   "cell_type": "markdown",
   "metadata": {},
   "source": [
    "This Notebook Will Be Used For IBM Capstone"
   ]
  },
  {
   "cell_type": "code",
   "execution_count": 1,
   "metadata": {},
   "outputs": [
    {
     "name": "stdout",
     "output_type": "stream",
     "text": [
      "Hello Capstone Project Course!\n"
     ]
    }
   ],
   "source": [
    "import numpy as np\n",
    "import pandas as pd\n",
    "\n",
    "print(\"Hello Capstone Project Course!\")"
   ]
  },
  {
   "cell_type": "markdown",
   "metadata": {},
   "source": [
    "Pull Toronto Data From Wiki"
   ]
  },
  {
   "cell_type": "code",
   "execution_count": 5,
   "metadata": {},
   "outputs": [
    {
     "name": "stdout",
     "output_type": "stream",
     "text": [
      "Requirement already satisfied: bs4 in /opt/miniconda3/lib/python3.7/site-packages (0.0.1)\n",
      "Requirement already satisfied: beautifulsoup4 in /opt/miniconda3/lib/python3.7/site-packages (from bs4) (4.9.1)\n",
      "Requirement already satisfied: soupsieve>1.2 in /opt/miniconda3/lib/python3.7/site-packages (from beautifulsoup4->bs4) (2.0.1)\n"
     ]
    }
   ],
   "source": [
    "!pip install bs4"
   ]
  },
  {
   "cell_type": "code",
   "execution_count": 11,
   "metadata": {},
   "outputs": [],
   "source": [
    "from bs4 import BeautifulSoup\n",
    "import requests\n",
    "import pandas as pd\n",
    "\n",
    "#Define URL\n",
    "url = 'https://en.wikipedia.org/wiki/List_of_postal_codes_of_Canada:_M'\n",
    "content = requests.get(url).content\n",
    "\n",
    "#Parse Page on BS4\n",
    "soup = BeautifulSoup(content, 'html.parser')\n",
    "\n",
    "#Pull Out Table\n",
    "table = soup.find('table')\n",
    "\n",
    "#Parse Columns and Headers\n",
    "data = []\n",
    "headers = False\n",
    "data = []\n",
    "\n",
    "#Iterate Through Rows For Data\n",
    "for row in table.find_all('tr'):\n",
    "    header = row.find_all('th')\n",
    "    header_values = [cell.text.strip() for cell in header]\n",
    "    cells = row.find_all('td')\n",
    "    row_values = [cell.text.strip() for cell in cells]\n",
    "    \n",
    "    if not headers:\n",
    "        headers = header_values\n",
    "    \n",
    "    data.append(row_values)\n",
    "\n",
    "#Create DF\n",
    "df = pd.DataFrame(data, columns = headers)\n",
    "    \n",
    "\n",
    "\n",
    "\n",
    "\n"
   ]
  },
  {
   "cell_type": "code",
   "execution_count": 14,
   "metadata": {},
   "outputs": [
    {
     "data": {
      "text/plain": [
       "(103, 3)"
      ]
     },
     "execution_count": 14,
     "metadata": {},
     "output_type": "execute_result"
    }
   ],
   "source": [
    "#Drop NA Cells and Cells with Borough == 'Not assigned'\n",
    "\n",
    "df = df.dropna()\n",
    "df = df[df['Borough'] != 'Not assigned']\n",
    "\n",
    "\n",
    "df.shape"
   ]
  },
  {
   "cell_type": "code",
   "execution_count": 17,
   "metadata": {},
   "outputs": [
    {
     "name": "stdout",
     "output_type": "stream",
     "text": [
      "Requirement already satisfied: pgeocode in /opt/miniconda3/lib/python3.7/site-packages (0.2.1)\n",
      "Requirement already satisfied: requests in /opt/miniconda3/lib/python3.7/site-packages (from pgeocode) (2.22.0)\n",
      "Requirement already satisfied: pandas in /opt/miniconda3/lib/python3.7/site-packages (from pgeocode) (1.0.3)\n",
      "Requirement already satisfied: numpy in /opt/miniconda3/lib/python3.7/site-packages (from pgeocode) (1.18.4)\n",
      "Requirement already satisfied: chardet<3.1.0,>=3.0.2 in /opt/miniconda3/lib/python3.7/site-packages (from requests->pgeocode) (3.0.4)\n",
      "Requirement already satisfied: urllib3!=1.25.0,!=1.25.1,<1.26,>=1.21.1 in /opt/miniconda3/lib/python3.7/site-packages (from requests->pgeocode) (1.24.2)\n",
      "Requirement already satisfied: idna<2.9,>=2.5 in /opt/miniconda3/lib/python3.7/site-packages (from requests->pgeocode) (2.8)\n",
      "Requirement already satisfied: certifi>=2017.4.17 in /opt/miniconda3/lib/python3.7/site-packages (from requests->pgeocode) (2019.11.28)\n",
      "Requirement already satisfied: pytz>=2017.2 in /opt/miniconda3/lib/python3.7/site-packages (from pandas->pgeocode) (2020.1)\n",
      "Requirement already satisfied: python-dateutil>=2.6.1 in /opt/miniconda3/lib/python3.7/site-packages (from pandas->pgeocode) (2.8.1)\n",
      "Requirement already satisfied: six>=1.5 in /opt/miniconda3/lib/python3.7/site-packages (from python-dateutil>=2.6.1->pandas->pgeocode) (1.12.0)\n",
      "Collecting folium\n",
      "\u001b[?25l  Downloading https://files.pythonhosted.org/packages/a4/f0/44e69d50519880287cc41e7c8a6acc58daa9a9acf5f6afc52bcc70f69a6d/folium-0.11.0-py2.py3-none-any.whl (93kB)\n",
      "\u001b[K     |████████████████████████████████| 102kB 2.0MB/s ta 0:00:01\n",
      "\u001b[?25hCollecting branca>=0.3.0\n",
      "  Downloading https://files.pythonhosted.org/packages/13/fb/9eacc24ba3216510c6b59a4ea1cd53d87f25ba76237d7f4393abeaf4c94e/branca-0.4.1-py3-none-any.whl\n",
      "Requirement already satisfied: jinja2>=2.9 in /opt/miniconda3/lib/python3.7/site-packages (from folium) (2.11.1)\n",
      "Requirement already satisfied: numpy in /opt/miniconda3/lib/python3.7/site-packages (from folium) (1.18.4)\n",
      "Requirement already satisfied: requests in /opt/miniconda3/lib/python3.7/site-packages (from folium) (2.22.0)\n",
      "Requirement already satisfied: MarkupSafe>=0.23 in /opt/miniconda3/lib/python3.7/site-packages (from jinja2>=2.9->folium) (1.1.1)\n",
      "Requirement already satisfied: certifi>=2017.4.17 in /opt/miniconda3/lib/python3.7/site-packages (from requests->folium) (2019.11.28)\n",
      "Requirement already satisfied: urllib3!=1.25.0,!=1.25.1,<1.26,>=1.21.1 in /opt/miniconda3/lib/python3.7/site-packages (from requests->folium) (1.24.2)\n",
      "Requirement already satisfied: idna<2.9,>=2.5 in /opt/miniconda3/lib/python3.7/site-packages (from requests->folium) (2.8)\n",
      "Requirement already satisfied: chardet<3.1.0,>=3.0.2 in /opt/miniconda3/lib/python3.7/site-packages (from requests->folium) (3.0.4)\n",
      "Installing collected packages: branca, folium\n",
      "Successfully installed branca-0.4.1 folium-0.11.0\n"
     ]
    }
   ],
   "source": [
    "!pip install pgeocode\n",
    "!pip install folium"
   ]
  },
  {
   "cell_type": "code",
   "execution_count": 15,
   "metadata": {},
   "outputs": [
    {
     "data": {
      "text/html": [
       "<div>\n",
       "<style scoped>\n",
       "    .dataframe tbody tr th:only-of-type {\n",
       "        vertical-align: middle;\n",
       "    }\n",
       "\n",
       "    .dataframe tbody tr th {\n",
       "        vertical-align: top;\n",
       "    }\n",
       "\n",
       "    .dataframe thead th {\n",
       "        text-align: right;\n",
       "    }\n",
       "</style>\n",
       "<table border=\"1\" class=\"dataframe\">\n",
       "  <thead>\n",
       "    <tr style=\"text-align: right;\">\n",
       "      <th></th>\n",
       "      <th>Postal Code</th>\n",
       "      <th>Borough</th>\n",
       "      <th>Neighbourhood</th>\n",
       "      <th>Latitude</th>\n",
       "      <th>Longitude</th>\n",
       "    </tr>\n",
       "  </thead>\n",
       "  <tbody>\n",
       "    <tr>\n",
       "      <th>3</th>\n",
       "      <td>M3A</td>\n",
       "      <td>North York</td>\n",
       "      <td>Parkwoods</td>\n",
       "      <td>43.7545</td>\n",
       "      <td>-79.3300</td>\n",
       "    </tr>\n",
       "    <tr>\n",
       "      <th>4</th>\n",
       "      <td>M4A</td>\n",
       "      <td>North York</td>\n",
       "      <td>Victoria Village</td>\n",
       "      <td>43.7276</td>\n",
       "      <td>-79.3148</td>\n",
       "    </tr>\n",
       "    <tr>\n",
       "      <th>5</th>\n",
       "      <td>M5A</td>\n",
       "      <td>Downtown Toronto</td>\n",
       "      <td>Regent Park, Harbourfront</td>\n",
       "      <td>43.6555</td>\n",
       "      <td>-79.3626</td>\n",
       "    </tr>\n",
       "    <tr>\n",
       "      <th>6</th>\n",
       "      <td>M6A</td>\n",
       "      <td>North York</td>\n",
       "      <td>Lawrence Manor, Lawrence Heights</td>\n",
       "      <td>43.7223</td>\n",
       "      <td>-79.4504</td>\n",
       "    </tr>\n",
       "    <tr>\n",
       "      <th>7</th>\n",
       "      <td>M7A</td>\n",
       "      <td>Downtown Toronto</td>\n",
       "      <td>Queen's Park, Ontario Provincial Government</td>\n",
       "      <td>43.6641</td>\n",
       "      <td>-79.3889</td>\n",
       "    </tr>\n",
       "    <tr>\n",
       "      <th>...</th>\n",
       "      <td>...</td>\n",
       "      <td>...</td>\n",
       "      <td>...</td>\n",
       "      <td>...</td>\n",
       "      <td>...</td>\n",
       "    </tr>\n",
       "    <tr>\n",
       "      <th>161</th>\n",
       "      <td>M8X</td>\n",
       "      <td>Etobicoke</td>\n",
       "      <td>The Kingsway, Montgomery Road, Old Mill North</td>\n",
       "      <td>43.6518</td>\n",
       "      <td>-79.5076</td>\n",
       "    </tr>\n",
       "    <tr>\n",
       "      <th>166</th>\n",
       "      <td>M4Y</td>\n",
       "      <td>Downtown Toronto</td>\n",
       "      <td>Church and Wellesley</td>\n",
       "      <td>43.6656</td>\n",
       "      <td>-79.3830</td>\n",
       "    </tr>\n",
       "    <tr>\n",
       "      <th>169</th>\n",
       "      <td>M7Y</td>\n",
       "      <td>East Toronto</td>\n",
       "      <td>Business reply mail Processing Centre, South C...</td>\n",
       "      <td>43.7804</td>\n",
       "      <td>-79.2505</td>\n",
       "    </tr>\n",
       "    <tr>\n",
       "      <th>170</th>\n",
       "      <td>M8Y</td>\n",
       "      <td>Etobicoke</td>\n",
       "      <td>Old Mill South, King's Mill Park, Sunnylea, Hu...</td>\n",
       "      <td>43.6325</td>\n",
       "      <td>-79.4939</td>\n",
       "    </tr>\n",
       "    <tr>\n",
       "      <th>179</th>\n",
       "      <td>M8Z</td>\n",
       "      <td>Etobicoke</td>\n",
       "      <td>Mimico NW, The Queensway West, South of Bloor,...</td>\n",
       "      <td>43.6256</td>\n",
       "      <td>-79.5231</td>\n",
       "    </tr>\n",
       "  </tbody>\n",
       "</table>\n",
       "<p>103 rows × 5 columns</p>\n",
       "</div>"
      ],
      "text/plain": [
       "    Postal Code           Borough  \\\n",
       "3           M3A        North York   \n",
       "4           M4A        North York   \n",
       "5           M5A  Downtown Toronto   \n",
       "6           M6A        North York   \n",
       "7           M7A  Downtown Toronto   \n",
       "..          ...               ...   \n",
       "161         M8X         Etobicoke   \n",
       "166         M4Y  Downtown Toronto   \n",
       "169         M7Y      East Toronto   \n",
       "170         M8Y         Etobicoke   \n",
       "179         M8Z         Etobicoke   \n",
       "\n",
       "                                         Neighbourhood  Latitude  Longitude  \n",
       "3                                            Parkwoods   43.7545   -79.3300  \n",
       "4                                     Victoria Village   43.7276   -79.3148  \n",
       "5                            Regent Park, Harbourfront   43.6555   -79.3626  \n",
       "6                     Lawrence Manor, Lawrence Heights   43.7223   -79.4504  \n",
       "7          Queen's Park, Ontario Provincial Government   43.6641   -79.3889  \n",
       "..                                                 ...       ...        ...  \n",
       "161      The Kingsway, Montgomery Road, Old Mill North   43.6518   -79.5076  \n",
       "166                               Church and Wellesley   43.6656   -79.3830  \n",
       "169  Business reply mail Processing Centre, South C...   43.7804   -79.2505  \n",
       "170  Old Mill South, King's Mill Park, Sunnylea, Hu...   43.6325   -79.4939  \n",
       "179  Mimico NW, The Queensway West, South of Bloor,...   43.6256   -79.5231  \n",
       "\n",
       "[103 rows x 5 columns]"
      ]
     },
     "execution_count": 15,
     "metadata": {},
     "output_type": "execute_result"
    }
   ],
   "source": [
    "# Import GEO code library and assign latitude and longitude values\n",
    "\n",
    "import pgeocode\n",
    "nomi = pgeocode.Nominatim('ca')\n",
    "\n",
    "lats = []\n",
    "longs = []\n",
    "\n",
    "for postal_code in df['Postal Code']:\n",
    "    location = nomi.query_postal_code(postal_code)\n",
    "    \n",
    "    lats.append(location.latitude)\n",
    "    longs.append(location.longitude)\n",
    "    \n",
    "df['Latitude'] = lats\n",
    "df['Longitude'] = longs\n",
    "\n",
    "df\n",
    "\n",
    "    \n"
   ]
  },
  {
   "cell_type": "code",
   "execution_count": 23,
   "metadata": {},
   "outputs": [
    {
     "data": {
      "text/html": [
       "<div style=\"width:100%;\"><div style=\"position:relative;width:100%;height:0;padding-bottom:60%;\"><span style=\"color:#565656\">Make this Notebook Trusted to load map: File -> Trust Notebook</span><iframe src=\"about:blank\" style=\"position:absolute;width:100%;height:100%;left:0;top:0;border:none !important;\" data-html=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 onload=\"this.contentDocument.open();this.contentDocument.write(atob(this.getAttribute('data-html')));this.contentDocument.close();\" allowfullscreen webkitallowfullscreen mozallowfullscreen></iframe></div></div>"
      ],
      "text/plain": [
       "<folium.folium.Map at 0x7feb4b319dd0>"
      ]
     },
     "execution_count": 23,
     "metadata": {},
     "output_type": "execute_result"
    }
   ],
   "source": [
    "import folium\n",
    "\n",
    "df = df.dropna()\n",
    "\n",
    "toronto_plot = folium.Map(location = [43.67, -79.4], zoom_start = 11)\n",
    "locations = df[['Latitude', 'Longitude']].values.tolist()\n",
    "\n",
    "for location in locations:\n",
    "    folium.Marker(location).add_to(toronto_plot)\n",
    "    \n",
    "toronto_plot"
   ]
  },
  {
   "cell_type": "code",
   "execution_count": null,
   "metadata": {},
   "outputs": [],
   "source": []
  }
 ],
 "metadata": {
  "kernelspec": {
   "display_name": "Python 3",
   "language": "python",
   "name": "python3"
  },
  "language_info": {
   "codemirror_mode": {
    "name": "ipython",
    "version": 3
   },
   "file_extension": ".py",
   "mimetype": "text/x-python",
   "name": "python",
   "nbconvert_exporter": "python",
   "pygments_lexer": "ipython3",
   "version": "3.7.4"
  }
 },
 "nbformat": 4,
 "nbformat_minor": 4
}
